{
 "cells": [
  {
   "cell_type": "markdown",
   "id": "4ad2cc4e-31ec-4648-b0fe-6632f2bdbc36",
   "metadata": {},
   "source": [
    "# プログラムからLLMにアクセスする\n",
    "既に多くの方は、ChatGPTのような大規模言語モデル（LLM）とやり取りしたことがあるかもしれません。通常、これはUIやアプリケーションを介して行われます。\n",
    "\n",
    "このNotebookでは、Pythonを使用してLLMに直接アクセスします。\n",
    "モデルとして、OpenShift AIでServingされた**elyza/ELYZA-japanese-Llama-2-7b-fast-instruct**を利用します。"
   ]
  },
  {
   "cell_type": "markdown",
   "id": "db4cc1a6-b412-43b4-814d-73db592c8153",
   "metadata": {},
   "source": [
    "### 必要なライブラリとインポート\n",
    "\n",
    "Labの指示に従って適切なワークベンチイメージを選択して起動した場合、必要なすべてのライブラリがすでにインストールされているはずです。もしインストールされていない場合は、次のセルの最初の行のコメントを外して正しいパッケージをすべてインストールしてください。その後、必要なライブラリをインポートします。"
   ]
  },
  {
   "cell_type": "code",
   "execution_count": null,
   "id": "d61c595d-967e-47de-a598-02b5d1ccec85",
   "metadata": {
    "tags": []
   },
   "outputs": [],
   "source": [
    "# !pip install --no-cache-dir --no-dependencies --disable-pip-version-check -r requirements.txt # Uncomment only if you have not selected the right workbench image\n",
    "\n",
    "from langchain.chains import LLMChain\n",
    "from langchain_community.llms import VLLMOpenAI\n",
    "from langchain.callbacks.streaming_stdout import StreamingStdOutCallbackHandler\n",
    "from langchain.prompts.chat import (\n",
    "    SystemMessagePromptTemplate,\n",
    "    HumanMessagePromptTemplate,\n",
    "    ChatPromptTemplate\n",
    ")"
   ]
  },
  {
   "cell_type": "markdown",
   "id": "dd475b08-7b2c-48cc-83b4-56748274cc68",
   "metadata": {},
   "source": [
    "### Langchain\n",
    "\n",
    "[Langchain](https://www.langchain.com/)は、言語モデルを活用したアプリケーションを開発するためのフレームワークです。このフレームワークは、LLM（Language Model）に適切にクエリを発行するために手動で書かなければならないすべてのコードを処理します。\n",
    "\n",
    "まず、LLMインスタンスを作成します。これはLLM APIへのクエリが行われる場所と、モデルに適用されるいくつかのパラメータによって定義されます。たとえば、`max_new_tokens`はモデルが最大512トークン（単語または単語の一部）で回答するよう指示します。`temperature`はここで非常に低く設定されており、モデルに真実に基づいたままであり、あまり「創造的」にならないように指示します。"
   ]
  },
  {
   "cell_type": "code",
   "execution_count": null,
   "id": "77f95a70-89fb-4e21-a51c-24e862b7953e",
   "metadata": {
    "tags": []
   },
   "outputs": [],
   "source": [
    "# LLM推論APIのURL\n",
    "inference_server_url = \"_INFERENCE_URL_LLM_\"\n",
    "\n",
    "# LLMの定義\n",
    "llm = VLLMOpenAI(\n",
    "    openai_api_key=\"EMPTY\", # OpenAI互換のAPIクライアントを使用していますが、モデルはOpenAIではなくOpenShift上で実行されています。そのため、api keyを指定しますが、これは使われません。\n",
    "    openai_api_base= f\"{inference_server_url}/v1\",\n",
    "    model_name=\"/mnt/models/\",\n",
    "    top_p=0.92,\n",
    "    temperature=0.01,\n",
    "    max_tokens=512,\n",
    "    presence_penalty=1.03,\n",
    "    streaming=True,\n",
    "    callbacks=[StreamingStdOutCallbackHandler()]\n",
    ")"
   ]
  },
  {
   "cell_type": "markdown",
   "id": "cb3dc153-a3a6-4914-a6ed-85c40582e0bc",
   "metadata": {},
   "source": [
    "また、モデルに送信するすべてのリクエストに適用する**テンプレート**（プロンプト）も必要です。\n",
    "\n",
    "モデルにクエリを送信する際、ほとんどの場合、ユーザーが入力した内容をそのまま送ることは望まれません。モデルがそれをどのように扱うかを正確に指示する必要があります。例えば、何をどのように回答するか、回答してはいけないこと、使用するべきトーンなどです。"
   ]
  },
  {
   "cell_type": "code",
   "execution_count": null,
   "id": "f8bb7517-faa2-43ed-a95d-835de975f916",
   "metadata": {
    "tags": []
   },
   "outputs": [],
   "source": [
    "system_template_string = \"\"\"\n",
    "あなたは、親切で、礼儀正しく、正直なアシスタントです。\n",
    "常に気配りと尊重をもって接し、真摯にサポートします。できる限り有用な返答を提供しますが、安全を確保します。\n",
    "有害で、倫理に反する、偏見のある、または否定的な内容は避けます。返答が公正でポジティブなものであることを確認します。\n",
    "\"\"\"\n",
    "\n",
    "user_template_string = \"\"\"\n",
    "与えられた質問に対して、できるだけ多くの情報を含めて回答して下さい。\n",
    "\n",
    "### 質問:\n",
    "{input}\n",
    "\n",
    "### 回答:\n",
    "\"\"\"\n",
    "\n",
    "system_template = SystemMessagePromptTemplate.from_template(system_template_string)\n",
    "user_template = HumanMessagePromptTemplate.from_template(user_template_string)\n",
    "\n",
    "PROMPT = ChatPromptTemplate.from_messages([system_template, user_template])"
   ]
  },
  {
   "cell_type": "markdown",
   "id": "0fbb7a32-6f23-42b6-a388-c1429f26d615",
   "metadata": {},
   "source": [
    "Langchainはこれらの要素を簡単に「つなぎ合わせ」、モデルにクエリを送信するために使用する**会話**オブジェクト (conversation) を作成することができます。"
   ]
  },
  {
   "cell_type": "code",
   "execution_count": null,
   "id": "0e6d9f32-d4ae-4c2f-b513-d520413d2cc8",
   "metadata": {
    "tags": []
   },
   "outputs": [],
   "source": [
    "conversation = LLMChain(llm=llm,\n",
    "                        prompt=PROMPT,\n",
    "                        verbose=False\n",
    "                        )"
   ]
  },
  {
   "cell_type": "markdown",
   "id": "4bfa4c11-9ff2-450f-97cc-473000069d74",
   "metadata": {},
   "source": [
    "これで、モデルにクエリを送信する準備が整いました。"
   ]
  },
  {
   "cell_type": "code",
   "execution_count": null,
   "id": "ca714bca-7cec-4afc-b275-fa389c05a993",
   "metadata": {
    "tags": []
   },
   "outputs": [],
   "source": [
    "query = \"人工知能（AI）とは、どのようなものですか？\"\n",
    "\n",
    "conversation.predict(input=query); # 行末の \";\" は、最終の出力（ストリームされた回答の繰り返し）を非表示にします。"
   ]
  }
 ],
 "metadata": {
  "kernelspec": {
   "display_name": "Python 3.11",
   "language": "python",
   "name": "python3"
  },
  "language_info": {
   "codemirror_mode": {
    "name": "ipython",
    "version": 3
   },
   "file_extension": ".py",
   "mimetype": "text/x-python",
   "name": "python",
   "nbconvert_exporter": "python",
   "pygments_lexer": "ipython3",
   "version": "3.11.7"
  }
 },
 "nbformat": 4,
 "nbformat_minor": 5
}
